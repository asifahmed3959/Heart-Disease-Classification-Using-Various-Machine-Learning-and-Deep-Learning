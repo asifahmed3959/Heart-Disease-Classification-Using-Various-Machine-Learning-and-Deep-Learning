{
 "cells": [
  {
   "cell_type": "code",
   "execution_count": null,
   "metadata": {
    "colab": {
     "base_uri": "https://localhost:8080/"
    },
    "id": "G3aI4emc3Ufp",
    "outputId": "5e1faedc-d1e0-4077-f066-888caabe7256"
   },
   "outputs": [
    {
     "name": "stdout",
     "output_type": "stream",
     "text": [
      "Requirement already satisfied: mlxtend in /usr/local/lib/python3.7/dist-packages (0.14.0)\n",
      "Requirement already satisfied: scikit-learn>=0.18 in /usr/local/lib/python3.7/dist-packages (from mlxtend) (1.0.2)\n",
      "Requirement already satisfied: numpy>=1.10.4 in /usr/local/lib/python3.7/dist-packages (from mlxtend) (1.21.5)\n",
      "Requirement already satisfied: matplotlib>=1.5.1 in /usr/local/lib/python3.7/dist-packages (from mlxtend) (3.2.2)\n",
      "Requirement already satisfied: pandas>=0.17.1 in /usr/local/lib/python3.7/dist-packages (from mlxtend) (1.3.5)\n",
      "Requirement already satisfied: setuptools in /usr/local/lib/python3.7/dist-packages (from mlxtend) (57.4.0)\n",
      "Requirement already satisfied: scipy>=0.17 in /usr/local/lib/python3.7/dist-packages (from mlxtend) (1.4.1)\n",
      "Requirement already satisfied: python-dateutil>=2.1 in /usr/local/lib/python3.7/dist-packages (from matplotlib>=1.5.1->mlxtend) (2.8.2)\n",
      "Requirement already satisfied: kiwisolver>=1.0.1 in /usr/local/lib/python3.7/dist-packages (from matplotlib>=1.5.1->mlxtend) (1.3.2)\n",
      "Requirement already satisfied: pyparsing!=2.0.4,!=2.1.2,!=2.1.6,>=2.0.1 in /usr/local/lib/python3.7/dist-packages (from matplotlib>=1.5.1->mlxtend) (3.0.7)\n",
      "Requirement already satisfied: cycler>=0.10 in /usr/local/lib/python3.7/dist-packages (from matplotlib>=1.5.1->mlxtend) (0.11.0)\n",
      "Requirement already satisfied: pytz>=2017.3 in /usr/local/lib/python3.7/dist-packages (from pandas>=0.17.1->mlxtend) (2018.9)\n",
      "Requirement already satisfied: six>=1.5 in /usr/local/lib/python3.7/dist-packages (from python-dateutil>=2.1->matplotlib>=1.5.1->mlxtend) (1.15.0)\n",
      "Requirement already satisfied: threadpoolctl>=2.0.0 in /usr/local/lib/python3.7/dist-packages (from scikit-learn>=0.18->mlxtend) (3.1.0)\n",
      "Requirement already satisfied: joblib>=0.11 in /usr/local/lib/python3.7/dist-packages (from scikit-learn>=0.18->mlxtend) (1.1.0)\n"
     ]
    }
   ],
   "source": [
    "!pip install mlxtend"
   ]
  },
  {
   "cell_type": "code",
   "execution_count": null,
   "metadata": {
    "id": "5Vm17Uv63iTL"
   },
   "outputs": [],
   "source": [
    "import six\n",
    "import sys\n",
    "sys.modules['sklearn.externals.six'] = six"
   ]
  },
  {
   "cell_type": "code",
   "execution_count": null,
   "metadata": {
    "id": "2fA07kAdeWGj"
   },
   "outputs": [],
   "source": [
    "import numpy as np\n",
    "import pandas as pd\n",
    "import matplotlib.pyplot as plt\n",
    "import seaborn as sns\n",
    "from sklearn.preprocessing import LabelEncoder\n",
    "from sklearn.preprocessing import MinMaxScaler\n",
    "from sklearn.model_selection import train_test_split\n",
    "from sklearn.metrics import classification_report,confusion_matrix\n",
    "from sklearn.metrics import f1_score, precision_score, recall_score\n",
    "from sklearn.metrics import accuracy_score\n",
    "from sklearn import model_selection\n",
    "from xgboost.sklearn import XGBClassifier\n",
    "from sklearn import metrics\n",
    "from mlxtend.classifier import EnsembleVoteClassifier\n",
    "from sklearn.ensemble import VotingClassifier"
   ]
  },
  {
   "cell_type": "code",
   "execution_count": null,
   "metadata": {
    "id": "g2L0glLEfPcu"
   },
   "outputs": [],
   "source": [
    "df = pd.read_csv('heart.csv')"
   ]
  },
  {
   "cell_type": "code",
   "execution_count": null,
   "metadata": {
    "colab": {
     "base_uri": "https://localhost:8080/",
     "height": 206
    },
    "id": "ZoFqd1O3fSsn",
    "outputId": "38f8af76-2b39-4871-ff76-13607cfe815a"
   },
   "outputs": [
    {
     "data": {
      "text/html": [
       "\n",
       "  <div id=\"df-3ad77c3d-0391-4a64-9632-01db279a5db9\">\n",
       "    <div class=\"colab-df-container\">\n",
       "      <div>\n",
       "<style scoped>\n",
       "    .dataframe tbody tr th:only-of-type {\n",
       "        vertical-align: middle;\n",
       "    }\n",
       "\n",
       "    .dataframe tbody tr th {\n",
       "        vertical-align: top;\n",
       "    }\n",
       "\n",
       "    .dataframe thead th {\n",
       "        text-align: right;\n",
       "    }\n",
       "</style>\n",
       "<table border=\"1\" class=\"dataframe\">\n",
       "  <thead>\n",
       "    <tr style=\"text-align: right;\">\n",
       "      <th></th>\n",
       "      <th>Age</th>\n",
       "      <th>Sex</th>\n",
       "      <th>ChestPainType</th>\n",
       "      <th>RestingBP</th>\n",
       "      <th>Cholesterol</th>\n",
       "      <th>FastingBS</th>\n",
       "      <th>RestingECG</th>\n",
       "      <th>MaxHR</th>\n",
       "      <th>ExerciseAngina</th>\n",
       "      <th>Oldpeak</th>\n",
       "      <th>ST_Slope</th>\n",
       "      <th>HeartDisease</th>\n",
       "    </tr>\n",
       "  </thead>\n",
       "  <tbody>\n",
       "    <tr>\n",
       "      <th>0</th>\n",
       "      <td>40</td>\n",
       "      <td>M</td>\n",
       "      <td>ATA</td>\n",
       "      <td>140</td>\n",
       "      <td>289</td>\n",
       "      <td>0</td>\n",
       "      <td>Normal</td>\n",
       "      <td>172</td>\n",
       "      <td>N</td>\n",
       "      <td>0.0</td>\n",
       "      <td>Up</td>\n",
       "      <td>0</td>\n",
       "    </tr>\n",
       "    <tr>\n",
       "      <th>1</th>\n",
       "      <td>49</td>\n",
       "      <td>F</td>\n",
       "      <td>NAP</td>\n",
       "      <td>160</td>\n",
       "      <td>180</td>\n",
       "      <td>0</td>\n",
       "      <td>Normal</td>\n",
       "      <td>156</td>\n",
       "      <td>N</td>\n",
       "      <td>1.0</td>\n",
       "      <td>Flat</td>\n",
       "      <td>1</td>\n",
       "    </tr>\n",
       "    <tr>\n",
       "      <th>2</th>\n",
       "      <td>37</td>\n",
       "      <td>M</td>\n",
       "      <td>ATA</td>\n",
       "      <td>130</td>\n",
       "      <td>283</td>\n",
       "      <td>0</td>\n",
       "      <td>ST</td>\n",
       "      <td>98</td>\n",
       "      <td>N</td>\n",
       "      <td>0.0</td>\n",
       "      <td>Up</td>\n",
       "      <td>0</td>\n",
       "    </tr>\n",
       "    <tr>\n",
       "      <th>3</th>\n",
       "      <td>48</td>\n",
       "      <td>F</td>\n",
       "      <td>ASY</td>\n",
       "      <td>138</td>\n",
       "      <td>214</td>\n",
       "      <td>0</td>\n",
       "      <td>Normal</td>\n",
       "      <td>108</td>\n",
       "      <td>Y</td>\n",
       "      <td>1.5</td>\n",
       "      <td>Flat</td>\n",
       "      <td>1</td>\n",
       "    </tr>\n",
       "    <tr>\n",
       "      <th>4</th>\n",
       "      <td>54</td>\n",
       "      <td>M</td>\n",
       "      <td>NAP</td>\n",
       "      <td>150</td>\n",
       "      <td>195</td>\n",
       "      <td>0</td>\n",
       "      <td>Normal</td>\n",
       "      <td>122</td>\n",
       "      <td>N</td>\n",
       "      <td>0.0</td>\n",
       "      <td>Up</td>\n",
       "      <td>0</td>\n",
       "    </tr>\n",
       "  </tbody>\n",
       "</table>\n",
       "</div>\n",
       "      <button class=\"colab-df-convert\" onclick=\"convertToInteractive('df-3ad77c3d-0391-4a64-9632-01db279a5db9')\"\n",
       "              title=\"Convert this dataframe to an interactive table.\"\n",
       "              style=\"display:none;\">\n",
       "        \n",
       "  <svg xmlns=\"http://www.w3.org/2000/svg\" height=\"24px\"viewBox=\"0 0 24 24\"\n",
       "       width=\"24px\">\n",
       "    <path d=\"M0 0h24v24H0V0z\" fill=\"none\"/>\n",
       "    <path d=\"M18.56 5.44l.94 2.06.94-2.06 2.06-.94-2.06-.94-.94-2.06-.94 2.06-2.06.94zm-11 1L8.5 8.5l.94-2.06 2.06-.94-2.06-.94L8.5 2.5l-.94 2.06-2.06.94zm10 10l.94 2.06.94-2.06 2.06-.94-2.06-.94-.94-2.06-.94 2.06-2.06.94z\"/><path d=\"M17.41 7.96l-1.37-1.37c-.4-.4-.92-.59-1.43-.59-.52 0-1.04.2-1.43.59L10.3 9.45l-7.72 7.72c-.78.78-.78 2.05 0 2.83L4 21.41c.39.39.9.59 1.41.59.51 0 1.02-.2 1.41-.59l7.78-7.78 2.81-2.81c.8-.78.8-2.07 0-2.86zM5.41 20L4 18.59l7.72-7.72 1.47 1.35L5.41 20z\"/>\n",
       "  </svg>\n",
       "      </button>\n",
       "      \n",
       "  <style>\n",
       "    .colab-df-container {\n",
       "      display:flex;\n",
       "      flex-wrap:wrap;\n",
       "      gap: 12px;\n",
       "    }\n",
       "\n",
       "    .colab-df-convert {\n",
       "      background-color: #E8F0FE;\n",
       "      border: none;\n",
       "      border-radius: 50%;\n",
       "      cursor: pointer;\n",
       "      display: none;\n",
       "      fill: #1967D2;\n",
       "      height: 32px;\n",
       "      padding: 0 0 0 0;\n",
       "      width: 32px;\n",
       "    }\n",
       "\n",
       "    .colab-df-convert:hover {\n",
       "      background-color: #E2EBFA;\n",
       "      box-shadow: 0px 1px 2px rgba(60, 64, 67, 0.3), 0px 1px 3px 1px rgba(60, 64, 67, 0.15);\n",
       "      fill: #174EA6;\n",
       "    }\n",
       "\n",
       "    [theme=dark] .colab-df-convert {\n",
       "      background-color: #3B4455;\n",
       "      fill: #D2E3FC;\n",
       "    }\n",
       "\n",
       "    [theme=dark] .colab-df-convert:hover {\n",
       "      background-color: #434B5C;\n",
       "      box-shadow: 0px 1px 3px 1px rgba(0, 0, 0, 0.15);\n",
       "      filter: drop-shadow(0px 1px 2px rgba(0, 0, 0, 0.3));\n",
       "      fill: #FFFFFF;\n",
       "    }\n",
       "  </style>\n",
       "\n",
       "      <script>\n",
       "        const buttonEl =\n",
       "          document.querySelector('#df-3ad77c3d-0391-4a64-9632-01db279a5db9 button.colab-df-convert');\n",
       "        buttonEl.style.display =\n",
       "          google.colab.kernel.accessAllowed ? 'block' : 'none';\n",
       "\n",
       "        async function convertToInteractive(key) {\n",
       "          const element = document.querySelector('#df-3ad77c3d-0391-4a64-9632-01db279a5db9');\n",
       "          const dataTable =\n",
       "            await google.colab.kernel.invokeFunction('convertToInteractive',\n",
       "                                                     [key], {});\n",
       "          if (!dataTable) return;\n",
       "\n",
       "          const docLinkHtml = 'Like what you see? Visit the ' +\n",
       "            '<a target=\"_blank\" href=https://colab.research.google.com/notebooks/data_table.ipynb>data table notebook</a>'\n",
       "            + ' to learn more about interactive tables.';\n",
       "          element.innerHTML = '';\n",
       "          dataTable['output_type'] = 'display_data';\n",
       "          await google.colab.output.renderOutput(dataTable, element);\n",
       "          const docLink = document.createElement('div');\n",
       "          docLink.innerHTML = docLinkHtml;\n",
       "          element.appendChild(docLink);\n",
       "        }\n",
       "      </script>\n",
       "    </div>\n",
       "  </div>\n",
       "  "
      ],
      "text/plain": [
       "   Age Sex ChestPainType  RestingBP  Cholesterol  FastingBS RestingECG  MaxHR  \\\n",
       "0   40   M           ATA        140          289          0     Normal    172   \n",
       "1   49   F           NAP        160          180          0     Normal    156   \n",
       "2   37   M           ATA        130          283          0         ST     98   \n",
       "3   48   F           ASY        138          214          0     Normal    108   \n",
       "4   54   M           NAP        150          195          0     Normal    122   \n",
       "\n",
       "  ExerciseAngina  Oldpeak ST_Slope  HeartDisease  \n",
       "0              N      0.0       Up             0  \n",
       "1              N      1.0     Flat             1  \n",
       "2              N      0.0       Up             0  \n",
       "3              Y      1.5     Flat             1  \n",
       "4              N      0.0       Up             0  "
      ]
     },
     "execution_count": 6,
     "metadata": {},
     "output_type": "execute_result"
    }
   ],
   "source": [
    "df.head()\n"
   ]
  },
  {
   "cell_type": "code",
   "execution_count": null,
   "metadata": {
    "colab": {
     "base_uri": "https://localhost:8080/"
    },
    "id": "DzHOpreufUJg",
    "outputId": "727f97b4-7c83-4881-bfd9-811c0b51b6e7"
   },
   "outputs": [
    {
     "data": {
      "text/plain": [
       "Index(['Age', 'Sex', 'ChestPainType', 'RestingBP', 'Cholesterol', 'FastingBS',\n",
       "       'RestingECG', 'MaxHR', 'ExerciseAngina', 'Oldpeak', 'ST_Slope',\n",
       "       'HeartDisease'],\n",
       "      dtype='object')"
      ]
     },
     "execution_count": 7,
     "metadata": {},
     "output_type": "execute_result"
    }
   ],
   "source": [
    "df.columns"
   ]
  },
  {
   "cell_type": "code",
   "execution_count": null,
   "metadata": {
    "colab": {
     "base_uri": "https://localhost:8080/"
    },
    "id": "YRi9zinbfU-k",
    "outputId": "ee9e0f2d-d14d-465c-8f9a-7864c7d655ab"
   },
   "outputs": [
    {
     "name": "stdout",
     "output_type": "stream",
     "text": [
      "<class 'pandas.core.frame.DataFrame'>\n",
      "RangeIndex: 918 entries, 0 to 917\n",
      "Data columns (total 12 columns):\n",
      " #   Column          Non-Null Count  Dtype  \n",
      "---  ------          --------------  -----  \n",
      " 0   Age             918 non-null    int64  \n",
      " 1   Sex             918 non-null    object \n",
      " 2   ChestPainType   918 non-null    object \n",
      " 3   RestingBP       918 non-null    int64  \n",
      " 4   Cholesterol     918 non-null    int64  \n",
      " 5   FastingBS       918 non-null    int64  \n",
      " 6   RestingECG      918 non-null    object \n",
      " 7   MaxHR           918 non-null    int64  \n",
      " 8   ExerciseAngina  918 non-null    object \n",
      " 9   Oldpeak         918 non-null    float64\n",
      " 10  ST_Slope        918 non-null    object \n",
      " 11  HeartDisease    918 non-null    int64  \n",
      "dtypes: float64(1), int64(6), object(5)\n",
      "memory usage: 86.2+ KB\n"
     ]
    }
   ],
   "source": [
    "df.info()"
   ]
  },
  {
   "cell_type": "markdown",
   "metadata": {
    "id": "PVlGOJGMFgQ7"
   },
   "source": [
    "Here, we can see some of the columns are in object and some are integers, we have to encode the objects and labels, but before that lets see the spread of the dataset of the columns"
   ]
  },
  {
   "cell_type": "code",
   "execution_count": null,
   "metadata": {
    "colab": {
     "base_uri": "https://localhost:8080/",
     "height": 711
    },
    "id": "cOwPoC3ifoSa",
    "outputId": "96f91a8a-5f62-43c9-db9c-d944ba7253ab"
   },
   "outputs": [
    {
     "data": {
      "image/png": "[encoded data removed]",
      "text/plain": [
       "<Figure size 1224x72 with 1 Axes>"
      ]
     },
     "metadata": {
      "needs_background": "light"
     },
     "output_type": "display_data"
    },
    {
     "data": {
      "image/png": "[encoded data removed]",
      "text/plain": [
       "<Figure size 1224x72 with 1 Axes>"
      ]
     },
     "metadata": {
      "needs_background": "light"
     },
     "output_type": "display_data"
    },
    {
     "data": {
      "image/png": "[encoded data removed]",
      "text/plain": [
       "<Figure size 1224x72 with 1 Axes>"
      ]
     },
     "metadata": {
      "needs_background": "light"
     },
     "output_type": "display_data"
    },
    {
     "data": {
      "image/png": "[encoded data removed]",
      "text/plain": [
       "<Figure size 1224x72 with 1 Axes>"
      ]
     },
     "metadata": {
      "needs_background": "light"
     },
     "output_type": "display_data"
    },
    {
     "data": {
      "image/png": "[encoded data removed]",
      "text/plain": [
       "<Figure size 1224x72 with 1 Axes>"
      ]
     },
     "metadata": {
      "needs_background": "light"
     },
     "output_type": "display_data"
    },
    {
     "data": {
      "image/png": "[encoded data removed]",
      "text/plain": [
       "<Figure size 1224x72 with 1 Axes>"
      ]
     },
     "metadata": {
      "needs_background": "light"
     },
     "output_type": "display_data"
    },
    {
     "data": {
      "image/png": "[encoded data removed]",
      "text/plain": [
       "<Figure size 1224x72 with 1 Axes>"
      ]
     },
     "metadata": {
      "needs_background": "light"
     },
     "output_type": "display_data"
    }
   ],
   "source": [
    "df1=df.select_dtypes(exclude=['object'])\n",
    "\n",
    "for column in df1:\n",
    "  plt.figure(figsize=(17,1))\n",
    "  sns.histplot(data=df1, x=column)"
   ]
  },
  {
   "cell_type": "code",
   "execution_count": null,
   "metadata": {
    "colab": {
     "base_uri": "https://localhost:8080/",
     "height": 296
    },
    "id": "bg2Omsfag3dv",
    "outputId": "0ddc6b73-3e08-458b-9a4f-7d37d6e00018"
   },
   "outputs": [
    {
     "data": {
      "text/plain": [
       "<matplotlib.axes._subplots.AxesSubplot at 0x7fc7fdef7090>"
      ]
     },
     "execution_count": 10,
     "metadata": {},
     "output_type": "execute_result"
    },
    {
     "data": {
      "image/png": "[encoded data removed]",
      "text/plain": [
       "<Figure size 432x288 with 1 Axes>"
      ]
     },
     "metadata": {
      "needs_background": "light"
     },
     "output_type": "display_data"
    }
   ],
   "source": [
    "sns.histplot(data=df1, x='HeartDisease', y='Age',kde=True)"
   ]
  },
  {
   "cell_type": "code",
   "execution_count": null,
   "metadata": {
    "colab": {
     "base_uri": "https://localhost:8080/",
     "height": 296
    },
    "id": "gsf2sHgUibJ3",
    "outputId": "aac32825-e39e-495e-fc4c-e83bd695d16e"
   },
   "outputs": [
    {
     "data": {
      "text/plain": [
       "<matplotlib.axes._subplots.AxesSubplot at 0x7fc7fde68a90>"
      ]
     },
     "execution_count": 11,
     "metadata": {},
     "output_type": "execute_result"
    },
    {
     "data": {
      "image/png": "[encoded data removed]",
      "text/plain": [
       "<Figure size 432x288 with 1 Axes>"
      ]
     },
     "metadata": {
      "needs_background": "light"
     },
     "output_type": "display_data"
    }
   ],
   "source": [
    "sns.boxplot(data=df, x='Sex', y='Age')"
   ]
  },
  {
   "cell_type": "markdown",
   "metadata": {
    "id": "OlAgBX0oFZsA"
   },
   "source": [
    "Now we do encoding the dataset, especially where the classes are labels."
   ]
  },
  {
   "cell_type": "code",
   "execution_count": null,
   "metadata": {
    "colab": {
     "base_uri": "https://localhost:8080/"
    },
    "id": "nOf_sDrmlY6c",
    "outputId": "1d8a62fe-264d-477f-fe73-97a7ed6bc98d"
   },
   "outputs": [
    {
     "name": "stdout",
     "output_type": "stream",
     "text": [
      "Column name:  Sex\n",
      "{0: 'F', 1: 'M'}\n",
      "Column name:  ExerciseAngina\n",
      "{0: 'N', 1: 'Y'}\n",
      "Column name:  ST_Slope\n",
      "{0: 'Down', 1: 'Flat', 2: 'Up'}\n",
      "Column name:  ChestPainType\n",
      "{0: 'ASY', 1: 'ATA', 2: 'NAP', 3: 'TA'}\n",
      "Column name:  RestingECG\n",
      "{0: 'LVH', 1: 'Normal', 2: 'ST'}\n"
     ]
    }
   ],
   "source": [
    "x_list = ['Sex', 'ExerciseAngina', 'ST_Slope', 'ChestPainType', 'RestingECG']\n",
    "\n",
    "gle = LabelEncoder()\n",
    "\n",
    "for x in x_list:\n",
    "  column_labels = gle.fit_transform(df[x])\n",
    "  df[x] = column_labels\n",
    "  column_mappings = {index: label for index, label in \n",
    "                  enumerate(gle.classes_)}\n",
    "  print('Column name: ', x)\n",
    "  print(column_mappings)\n",
    "\n"
   ]
  },
  {
   "cell_type": "code",
   "execution_count": null,
   "metadata": {
    "colab": {
     "base_uri": "https://localhost:8080/",
     "height": 662
    },
    "id": "2jrThYG7mKrM",
    "outputId": "d4fda8e9-c92c-4dd2-f99e-b1ff8094880d"
   },
   "outputs": [
    {
     "data": {
      "image/png": "[encoded data removed]",
      "text/plain": [
       "<Figure size 864x720 with 2 Axes>"
      ]
     },
     "metadata": {
      "needs_background": "light"
     },
     "output_type": "display_data"
    }
   ],
   "source": [
    "#Using Pearson Correlation to see if the features are correlated \n",
    "plt.figure(figsize=(12,10))\n",
    "cor = df.corr()\n",
    "sns.heatmap(cor, annot=True, cmap=plt.cm.CMRmap_r)\n",
    "plt.show()"
   ]
  },
  {
   "cell_type": "markdown",
   "metadata": {
    "id": "HbMEVjdBF8ET"
   },
   "source": [
    "From the pearson correlation plot, we can see all the classes are significanty related to the HeartDisease, no classes are significantly related with each other for drop out. "
   ]
  },
  {
   "cell_type": "code",
   "execution_count": null,
   "metadata": {
    "colab": {
     "base_uri": "https://localhost:8080/"
    },
    "id": "jskPJzyqmNdM",
    "outputId": "7cc02854-ea51-45b9-a816-fabeedf4e917"
   },
   "outputs": [
    {
     "name": "stdout",
     "output_type": "stream",
     "text": [
      "<class 'pandas.core.frame.DataFrame'>\n",
      "RangeIndex: 918 entries, 0 to 917\n",
      "Data columns (total 12 columns):\n",
      " #   Column          Non-Null Count  Dtype  \n",
      "---  ------          --------------  -----  \n",
      " 0   Age             918 non-null    int64  \n",
      " 1   Sex             918 non-null    int64  \n",
      " 2   ChestPainType   918 non-null    int64  \n",
      " 3   RestingBP       918 non-null    int64  \n",
      " 4   Cholesterol     918 non-null    int64  \n",
      " 5   FastingBS       918 non-null    int64  \n",
      " 6   RestingECG      918 non-null    int64  \n",
      " 7   MaxHR           918 non-null    int64  \n",
      " 8   ExerciseAngina  918 non-null    int64  \n",
      " 9   Oldpeak         918 non-null    float64\n",
      " 10  ST_Slope        918 non-null    int64  \n",
      " 11  HeartDisease    918 non-null    int64  \n",
      "dtypes: float64(1), int64(11)\n",
      "memory usage: 86.2 KB\n"
     ]
    },
    {
     "name": "stderr",
     "output_type": "stream",
     "text": [
      "/usr/local/lib/python3.7/dist-packages/ipykernel_launcher.py:1: FutureWarning: null_counts is deprecated. Use show_counts instead\n",
      "  \"\"\"Entry point for launching an IPython kernel.\n"
     ]
    }
   ],
   "source": [
    "df.info(null_counts=True) #seeing the datatypes along with if any data is null"
   ]
  },
  {
   "cell_type": "code",
   "execution_count": null,
   "metadata": {
    "colab": {
     "base_uri": "https://localhost:8080/"
    },
    "id": "3P3QmHBwYKfR",
    "outputId": "69b57edb-3fc9-46f7-e906-46f682fc323f"
   },
   "outputs": [
    {
     "data": {
      "text/plain": [
       "0      False\n",
       "1      False\n",
       "2      False\n",
       "3      False\n",
       "4      False\n",
       "       ...  \n",
       "913    False\n",
       "914    False\n",
       "915    False\n",
       "916    False\n",
       "917    False\n",
       "Length: 918, dtype: bool"
      ]
     },
     "execution_count": 16,
     "metadata": {},
     "output_type": "execute_result"
    }
   ],
   "source": [
    "df.duplicated() # seeing if any column is being duplicated"
   ]
  },
  {
   "cell_type": "code",
   "execution_count": null,
   "metadata": {
    "colab": {
     "base_uri": "https://localhost:8080/"
    },
    "id": "ZIKW995XXfGm",
    "outputId": "52e6b7eb-7644-45bb-e136-1d93cb544d15"
   },
   "outputs": [
    {
     "name": "stdout",
     "output_type": "stream",
     "text": [
      "Age [28 29 30 31 32 33 34 35 36 37 38 39 40 41 42 43 44 45 46 47 48 49 50 51\n",
      " 52 53 54 55 56 57 58 59 60 61 62 63 64 65 66 67 68 69 70 71 72 73 74 75\n",
      " 76 77]\n",
      "54    51\n",
      "58    42\n",
      "55    41\n",
      "56    38\n",
      "57    38\n",
      "52    36\n",
      "51    35\n",
      "59    35\n",
      "62    35\n",
      "53    33\n",
      "60    32\n",
      "48    31\n",
      "61    31\n",
      "63    30\n",
      "50    25\n",
      "46    24\n",
      "41    24\n",
      "43    24\n",
      "64    22\n",
      "65    21\n",
      "49    21\n",
      "47    19\n",
      "44    19\n",
      "42    18\n",
      "45    18\n",
      "38    16\n",
      "67    15\n",
      "39    15\n",
      "66    13\n",
      "69    13\n",
      "40    13\n",
      "35    11\n",
      "37    11\n",
      "68    10\n",
      "34     7\n",
      "74     7\n",
      "70     7\n",
      "36     6\n",
      "71     5\n",
      "32     5\n",
      "72     4\n",
      "29     3\n",
      "75     3\n",
      "33     2\n",
      "77     2\n",
      "76     2\n",
      "31     2\n",
      "30     1\n",
      "28     1\n",
      "73     1\n",
      "Name: Age, dtype: int64\n",
      "Sex [0 1]\n",
      "1    725\n",
      "0    193\n",
      "Name: Sex, dtype: int64\n",
      "ChestPainType [0 1 2 3]\n",
      "0    496\n",
      "2    203\n",
      "1    173\n",
      "3     46\n",
      "Name: ChestPainType, dtype: int64\n",
      "RestingBP [  0  80  92  94  95  96  98 100 101 102 104 105 106 108 110 112 113 114\n",
      " 115 116 117 118 120 122 123 124 125 126 127 128 129 130 131 132 133 134\n",
      " 135 136 137 138 139 140 141 142 143 144 145 146 148 150 152 154 155 156\n",
      " 158 160 164 165 170 172 174 178 180 185 190 192 200]\n",
      "120    132\n",
      "130    118\n",
      "140    107\n",
      "110     58\n",
      "150     55\n",
      "      ... \n",
      "185      1\n",
      "98       1\n",
      "92       1\n",
      "113      1\n",
      "164      1\n",
      "Name: RestingBP, Length: 67, dtype: int64\n",
      "Cholesterol [  0  85 100 110 113 117 123 126 129 131 132 139 141 142 147 149 152 153\n",
      " 156 157 159 160 161 163 164 165 166 167 168 169 170 171 172 173 174 175\n",
      " 176 177 178 179 180 181 182 183 184 185 186 187 188 190 192 193 194 195\n",
      " 196 197 198 199 200 201 202 203 204 205 206 207 208 209 210 211 212 213\n",
      " 214 215 216 217 218 219 220 221 222 223 224 225 226 227 228 229 230 231\n",
      " 232 233 234 235 236 237 238 239 240 241 242 243 244 245 246 247 248 249\n",
      " 250 251 252 253 254 255 256 257 258 259 260 261 262 263 264 265 266 267\n",
      " 268 269 270 271 272 273 274 275 276 277 278 279 280 281 282 283 284 285\n",
      " 286 287 288 289 290 291 292 293 294 295 297 298 299 300 302 303 304 305\n",
      " 306 307 308 309 310 311 312 313 315 316 318 319 320 321 322 325 326 327\n",
      " 328 329 330 331 333 335 336 337 338 339 340 341 342 344 347 349 353 354\n",
      " 355 358 360 365 369 384 385 388 392 393 394 404 407 409 412 417 458 466\n",
      " 468 491 518 529 564 603]\n",
      "0      172\n",
      "254     11\n",
      "223     10\n",
      "220     10\n",
      "230      9\n",
      "      ... \n",
      "392      1\n",
      "316      1\n",
      "153      1\n",
      "466      1\n",
      "131      1\n",
      "Name: Cholesterol, Length: 222, dtype: int64\n",
      "FastingBS [0 1]\n",
      "0    704\n",
      "1    214\n",
      "Name: FastingBS, dtype: int64\n",
      "RestingECG [0 1 2]\n",
      "1    552\n",
      "0    188\n",
      "2    178\n",
      "Name: RestingECG, dtype: int64\n",
      "MaxHR [ 60  63  67  69  70  71  72  73  77  78  80  82  83  84  86  87  88  90\n",
      "  91  92  93  94  95  96  97  98  99 100 102 103 104 105 106 107 108 109\n",
      " 110 111 112 113 114 115 116 117 118 119 120 121 122 123 124 125 126 127\n",
      " 128 129 130 131 132 133 134 135 136 137 138 139 140 141 142 143 144 145\n",
      " 146 147 148 149 150 151 152 153 154 155 156 157 158 159 160 161 162 163\n",
      " 164 165 166 167 168 169 170 171 172 173 174 175 176 177 178 179 180 181\n",
      " 182 184 185 186 187 188 190 192 194 195 202]\n",
      "150    43\n",
      "140    41\n",
      "120    36\n",
      "130    33\n",
      "160    25\n",
      "       ..\n",
      "63      1\n",
      "83      1\n",
      "60      1\n",
      "78      1\n",
      "202     1\n",
      "Name: MaxHR, Length: 119, dtype: int64\n",
      "ExerciseAngina [0 1]\n",
      "0    547\n",
      "1    371\n",
      "Name: ExerciseAngina, dtype: int64\n",
      "Oldpeak [-2.6 -2.  -1.5 -1.1 -1.  -0.9 -0.8 -0.7 -0.5 -0.1  0.   0.1  0.2  0.3\n",
      "  0.4  0.5  0.6  0.7  0.8  0.9  1.   1.1  1.2  1.3  1.4  1.5  1.6  1.7\n",
      "  1.8  1.9  2.   2.1  2.2  2.3  2.4  2.5  2.6  2.8  2.9  3.   3.1  3.2\n",
      "  3.4  3.5  3.6  3.7  3.8  4.   4.2  4.4  5.   5.6  6.2]\n",
      " 0.0    368\n",
      " 1.0     86\n",
      " 2.0     76\n",
      " 1.5     53\n",
      " 3.0     28\n",
      " 1.2     26\n",
      " 0.2     22\n",
      " 0.5     19\n",
      " 1.4     18\n",
      " 1.8     17\n",
      " 2.5     16\n",
      " 0.8     16\n",
      " 1.6     16\n",
      " 0.1     14\n",
      " 0.6     14\n",
      " 0.4     11\n",
      " 0.3     11\n",
      " 4.0      8\n",
      " 0.7      7\n",
      " 2.8      7\n",
      " 1.9      7\n",
      " 1.3      7\n",
      " 2.6      7\n",
      " 1.1      7\n",
      " 1.7      6\n",
      " 2.2      5\n",
      " 0.9      4\n",
      " 2.4      4\n",
      " 3.6      4\n",
      " 3.4      3\n",
      " 4.2      2\n",
      " 3.5      2\n",
      "-0.5      2\n",
      " 2.3      2\n",
      " 3.2      2\n",
      " 2.1      2\n",
      "-1.0      2\n",
      "-0.1      2\n",
      " 5.6      1\n",
      " 2.9      1\n",
      " 6.2      1\n",
      " 3.8      1\n",
      "-1.5      1\n",
      " 3.1      1\n",
      "-2.0      1\n",
      " 3.7      1\n",
      "-0.8      1\n",
      "-0.7      1\n",
      "-1.1      1\n",
      "-2.6      1\n",
      "-0.9      1\n",
      " 5.0      1\n",
      " 4.4      1\n",
      "Name: Oldpeak, dtype: int64\n",
      "ST_Slope [0 1 2]\n",
      "1    460\n",
      "2    395\n",
      "0     63\n",
      "Name: ST_Slope, dtype: int64\n",
      "HeartDisease [0 1]\n",
      "1    508\n",
      "0    410\n",
      "Name: HeartDisease, dtype: int64\n"
     ]
    }
   ],
   "source": [
    "for col in df.columns:\n",
    "  print(col , np.unique(df[col]))\n",
    "  print(df[col].value_counts())"
   ]
  },
  {
   "cell_type": "markdown",
   "metadata": {
    "id": "Bn86Pe8EGPGn"
   },
   "source": [
    "Now we are going to see the outliers, and remove them using the median of the value"
   ]
  },
  {
   "cell_type": "code",
   "execution_count": null,
   "metadata": {
    "colab": {
     "base_uri": "https://localhost:8080/",
     "height": 1000
    },
    "id": "0oBLw1aWXiT9",
    "outputId": "abf97ed1-d67c-4db4-fdd9-c2f40fd4583e"
   },
   "outputs": [
    {
     "data": {
      "image/png": "[encoded data removed]",
      "text/plain": [
       "<Figure size 1224x72 with 1 Axes>"
      ]
     },
     "metadata": {
      "needs_background": "light"
     },
     "output_type": "display_data"
    },
    {
     "data": {
      "image/png": "[encoded data removed]",
      "text/plain": [
       "<Figure size 1224x72 with 1 Axes>"
      ]
     },
     "metadata": {
      "needs_background": "light"
     },
     "output_type": "display_data"
    },
    {
     "data": {
      "image/png": "[encoded data removed]",
      "text/plain": [
       "<Figure size 1224x72 with 1 Axes>"
      ]
     },
     "metadata": {
      "needs_background": "light"
     },
     "output_type": "display_data"
    },
    {
     "data": {
      "image/png": "[encoded data removed]",
      "text/plain": [
       "<Figure size 1224x72 with 1 Axes>"
      ]
     },
     "metadata": {
      "needs_background": "light"
     },
     "output_type": "display_data"
    },
    {
     "data": {
      "image/png": "[encoded data removed]",
      "text/plain": [
       "<Figure size 1224x72 with 1 Axes>"
      ]
     },
     "metadata": {
      "needs_background": "light"
     },
     "output_type": "display_data"
    },
    {
     "data": {
      "image/png": "[encoded data removed]",
      "text/plain": [
       "<Figure size 1224x72 with 1 Axes>"
      ]
     },
     "metadata": {
      "needs_background": "light"
     },
     "output_type": "display_data"
    },
    {
     "data": {
      "image/png": "[encoded data removed]",
      "text/plain": [
       "<Figure size 1224x72 with 1 Axes>"
      ]
     },
     "metadata": {
      "needs_background": "light"
     },
     "output_type": "display_data"
    },
    {
     "data": {
      "image/png": "[encoded data removed]",
      "text/plain": [
       "<Figure size 1224x72 with 1 Axes>"
      ]
     },
     "metadata": {
      "needs_background": "light"
     },
     "output_type": "display_data"
    },
    {
     "data": {
      "image/png": "[encoded data removed]",
      "text/plain": [
       "<Figure size 1224x72 with 1 Axes>"
      ]
     },
     "metadata": {
      "needs_background": "light"
     },
     "output_type": "display_data"
    },
    {
     "data": {
      "image/png": "[encoded data removed]",
      "text/plain": [
       "<Figure size 1224x72 with 1 Axes>"
      ]
     },
     "metadata": {
      "needs_background": "light"
     },
     "output_type": "display_data"
    },
    {
     "data": {
      "image/png": "[encoded data removed]",
      "text/plain": [
       "<Figure size 1224x72 with 1 Axes>"
      ]
     },
     "metadata": {
      "needs_background": "light"
     },
     "output_type": "display_data"
    },
    {
     "data": {
      "image/png": "[encoded data removed]",
      "text/plain": [
       "<Figure size 1224x72 with 1 Axes>"
      ]
     },
     "metadata": {
      "needs_background": "light"
     },
     "output_type": "display_data"
    }
   ],
   "source": [
    "df1=df.select_dtypes(exclude=['object'])\n",
    "\n",
    "for column in df1:\n",
    "        plt.figure(figsize=(17,1))\n",
    "        sns.boxplot(data=df1, x=column)"
   ]
  },
  {
   "cell_type": "code",
   "execution_count": null,
   "metadata": {
    "id": "fPI56uSvYYMO"
   },
   "outputs": [],
   "source": [
    "columns_with_outliers = ['Oldpeak', 'Cholesterol', 'RestingBP', 'MaxHR'] # these are the columns with outliers and removing them with median"
   ]
  },
  {
   "cell_type": "code",
   "execution_count": null,
   "metadata": {
    "colab": {
     "base_uri": "https://localhost:8080/"
    },
    "id": "tbCQQkMKeq_b",
    "outputId": "a10b5fa7-0a5e-4192-ad40-87ac5a35a715"
   },
   "outputs": [
    {
     "name": "stdout",
     "output_type": "stream",
     "text": [
      "column name:  Oldpeak\n",
      "0.0\n",
      "3.6\n",
      "-------------\n",
      "column name:  Cholesterol\n",
      "0.0\n",
      "384.65999999999997\n",
      "-------------\n",
      "column name:  RestingBP\n",
      "100.0\n",
      "180.0\n",
      "-------------\n",
      "column name:  MaxHR\n",
      "84.0\n",
      "183.31999999999994\n",
      "-------------\n"
     ]
    }
   ],
   "source": [
    "for column in columns_with_outliers:\n",
    "  print('column name: ', column)\n",
    "  print(df[column].quantile(0.02))  # see the data which does not fit with the 98 percent confidence level\n",
    "  print(df[column].quantile(.98))\n",
    "  print('-------------')"
   ]
  },
  {
   "cell_type": "code",
   "execution_count": null,
   "metadata": {
    "colab": {
     "base_uri": "https://localhost:8080/"
    },
    "id": "vjHtkwVVg9Qf",
    "outputId": "5c792637-1327-45ab-b56a-eed58a24a609"
   },
   "outputs": [
    {
     "name": "stdout",
     "output_type": "stream",
     "text": [
      "column name:  Oldpeak\n",
      "0.0\n",
      "3.6\n",
      "-------------\n"
     ]
    },
    {
     "name": "stderr",
     "output_type": "stream",
     "text": [
      "/usr/local/lib/python3.7/dist-packages/ipykernel_launcher.py:8: SettingWithCopyWarning: \n",
      "A value is trying to be set on a copy of a slice from a DataFrame\n",
      "\n",
      "See the caveats in the documentation: https://pandas.pydata.org/pandas-docs/stable/user_guide/indexing.html#returning-a-view-versus-a-copy\n",
      "  \n"
     ]
    },
    {
     "name": "stdout",
     "output_type": "stream",
     "text": [
      "column name:  Cholesterol\n",
      "0.0\n",
      "384.65999999999997\n",
      "-------------\n",
      "column name:  RestingBP\n",
      "100.0\n",
      "180.0\n",
      "-------------\n",
      "column name:  MaxHR\n",
      "84.0\n",
      "183.31999999999994\n",
      "-------------\n"
     ]
    }
   ],
   "source": [
    "for column in columns_with_outliers: #assigning median values for the outliers\n",
    "  print('column name: ', column)\n",
    "  print(df[column].quantile(0.02)) \n",
    "  print(df[column].quantile(.98))\n",
    "  print('-------------')\n",
    "  for row in range(len(df[column])):\n",
    "    if df[column][row] <= df[column].quantile(0.02) or df[column][row] >= df[column].quantile(.98):\n",
    "      df[column][row] = np.median(df[column])"
   ]
  },
  {
   "cell_type": "markdown",
   "metadata": {
    "id": "OUy2qjJhGnC1"
   },
   "source": [
    "seeing the spread of the data again"
   ]
  },
  {
   "cell_type": "code",
   "execution_count": null,
   "metadata": {
    "colab": {
     "base_uri": "https://localhost:8080/",
     "height": 413
    },
    "id": "eNwUckl8hFNH",
    "outputId": "3b259b9c-10d4-4509-c19f-109e53ffb42f"
   },
   "outputs": [
    {
     "data": {
      "image/png": "[encoded data removed]",
      "text/plain": [
       "<Figure size 1224x72 with 1 Axes>"
      ]
     },
     "metadata": {
      "needs_background": "light"
     },
     "output_type": "display_data"
    },
    {
     "data": {
      "image/png": "[encoded data removed]",
      "text/plain": [
       "<Figure size 1224x72 with 1 Axes>"
      ]
     },
     "metadata": {
      "needs_background": "light"
     },
     "output_type": "display_data"
    },
    {
     "data": {
      "image/png": "[encoded data removed]",
      "text/plain": [
       "<Figure size 1224x72 with 1 Axes>"
      ]
     },
     "metadata": {
      "needs_background": "light"
     },
     "output_type": "display_data"
    },
    {
     "data": {
      "image/png": "[encoded data removed]",
      "text/plain": [
       "<Figure size 1224x72 with 1 Axes>"
      ]
     },
     "metadata": {
      "needs_background": "light"
     },
     "output_type": "display_data"
    }
   ],
   "source": [
    "for column in columns_with_outliers:\n",
    "  plt.figure(figsize=(17,1))\n",
    "  sns.histplot(data=df, x=column)"
   ]
  },
  {
   "cell_type": "code",
   "execution_count": null,
   "metadata": {
    "colab": {
     "base_uri": "https://localhost:8080/",
     "height": 300
    },
    "id": "Q9raR0z_jhHs",
    "outputId": "8e037160-a2b8-4894-dc7b-9f7d049485fb"
   },
   "outputs": [
    {
     "data": {
      "text/html": [
       "\n",
       "  <div id=\"df-ac848846-21be-4fb9-9718-ecf5b83600b6\">\n",
       "    <div class=\"colab-df-container\">\n",
       "      <div>\n",
       "<style scoped>\n",
       "    .dataframe tbody tr th:only-of-type {\n",
       "        vertical-align: middle;\n",
       "    }\n",
       "\n",
       "    .dataframe tbody tr th {\n",
       "        vertical-align: top;\n",
       "    }\n",
       "\n",
       "    .dataframe thead th {\n",
       "        text-align: right;\n",
       "    }\n",
       "</style>\n",
       "<table border=\"1\" class=\"dataframe\">\n",
       "  <thead>\n",
       "    <tr style=\"text-align: right;\">\n",
       "      <th></th>\n",
       "      <th>Age</th>\n",
       "      <th>Sex</th>\n",
       "      <th>ChestPainType</th>\n",
       "      <th>RestingBP</th>\n",
       "      <th>Cholesterol</th>\n",
       "      <th>FastingBS</th>\n",
       "      <th>RestingECG</th>\n",
       "      <th>MaxHR</th>\n",
       "      <th>ExerciseAngina</th>\n",
       "      <th>Oldpeak</th>\n",
       "      <th>ST_Slope</th>\n",
       "      <th>HeartDisease</th>\n",
       "    </tr>\n",
       "  </thead>\n",
       "  <tbody>\n",
       "    <tr>\n",
       "      <th>count</th>\n",
       "      <td>918.000000</td>\n",
       "      <td>918.000000</td>\n",
       "      <td>918.000000</td>\n",
       "      <td>918.000000</td>\n",
       "      <td>918.000000</td>\n",
       "      <td>918.000000</td>\n",
       "      <td>918.000000</td>\n",
       "      <td>918.000000</td>\n",
       "      <td>918.000000</td>\n",
       "      <td>918.000000</td>\n",
       "      <td>918.000000</td>\n",
       "      <td>918.000000</td>\n",
       "    </tr>\n",
       "    <tr>\n",
       "      <th>mean</th>\n",
       "      <td>53.510893</td>\n",
       "      <td>0.789760</td>\n",
       "      <td>0.781046</td>\n",
       "      <td>131.942266</td>\n",
       "      <td>235.059913</td>\n",
       "      <td>0.233115</td>\n",
       "      <td>0.989107</td>\n",
       "      <td>137.152505</td>\n",
       "      <td>0.404139</td>\n",
       "      <td>1.036492</td>\n",
       "      <td>1.361656</td>\n",
       "      <td>0.553377</td>\n",
       "    </tr>\n",
       "    <tr>\n",
       "      <th>std</th>\n",
       "      <td>9.432617</td>\n",
       "      <td>0.407701</td>\n",
       "      <td>0.956519</td>\n",
       "      <td>12.997942</td>\n",
       "      <td>39.699247</td>\n",
       "      <td>0.423046</td>\n",
       "      <td>0.631671</td>\n",
       "      <td>21.213683</td>\n",
       "      <td>0.490992</td>\n",
       "      <td>0.676065</td>\n",
       "      <td>0.607056</td>\n",
       "      <td>0.497414</td>\n",
       "    </tr>\n",
       "    <tr>\n",
       "      <th>min</th>\n",
       "      <td>28.000000</td>\n",
       "      <td>0.000000</td>\n",
       "      <td>0.000000</td>\n",
       "      <td>105.000000</td>\n",
       "      <td>85.000000</td>\n",
       "      <td>0.000000</td>\n",
       "      <td>0.000000</td>\n",
       "      <td>87.000000</td>\n",
       "      <td>0.000000</td>\n",
       "      <td>0.100000</td>\n",
       "      <td>0.000000</td>\n",
       "      <td>0.000000</td>\n",
       "    </tr>\n",
       "    <tr>\n",
       "      <th>25%</th>\n",
       "      <td>47.000000</td>\n",
       "      <td>1.000000</td>\n",
       "      <td>0.000000</td>\n",
       "      <td>120.000000</td>\n",
       "      <td>216.000000</td>\n",
       "      <td>0.000000</td>\n",
       "      <td>1.000000</td>\n",
       "      <td>121.000000</td>\n",
       "      <td>0.000000</td>\n",
       "      <td>0.600000</td>\n",
       "      <td>1.000000</td>\n",
       "      <td>0.000000</td>\n",
       "    </tr>\n",
       "    <tr>\n",
       "      <th>50%</th>\n",
       "      <td>54.000000</td>\n",
       "      <td>1.000000</td>\n",
       "      <td>0.000000</td>\n",
       "      <td>130.000000</td>\n",
       "      <td>223.000000</td>\n",
       "      <td>0.000000</td>\n",
       "      <td>1.000000</td>\n",
       "      <td>138.000000</td>\n",
       "      <td>0.000000</td>\n",
       "      <td>0.600000</td>\n",
       "      <td>1.000000</td>\n",
       "      <td>1.000000</td>\n",
       "    </tr>\n",
       "    <tr>\n",
       "      <th>75%</th>\n",
       "      <td>60.000000</td>\n",
       "      <td>1.000000</td>\n",
       "      <td>2.000000</td>\n",
       "      <td>140.000000</td>\n",
       "      <td>260.000000</td>\n",
       "      <td>0.000000</td>\n",
       "      <td>1.000000</td>\n",
       "      <td>152.000000</td>\n",
       "      <td>1.000000</td>\n",
       "      <td>1.500000</td>\n",
       "      <td>2.000000</td>\n",
       "      <td>1.000000</td>\n",
       "    </tr>\n",
       "    <tr>\n",
       "      <th>max</th>\n",
       "      <td>77.000000</td>\n",
       "      <td>1.000000</td>\n",
       "      <td>3.000000</td>\n",
       "      <td>170.000000</td>\n",
       "      <td>365.000000</td>\n",
       "      <td>1.000000</td>\n",
       "      <td>2.000000</td>\n",
       "      <td>180.000000</td>\n",
       "      <td>1.000000</td>\n",
       "      <td>3.000000</td>\n",
       "      <td>2.000000</td>\n",
       "      <td>1.000000</td>\n",
       "    </tr>\n",
       "  </tbody>\n",
       "</table>\n",
       "</div>\n",
       "      <button class=\"colab-df-convert\" onclick=\"convertToInteractive('df-ac848846-21be-4fb9-9718-ecf5b83600b6')\"\n",
       "              title=\"Convert this dataframe to an interactive table.\"\n",
       "              style=\"display:none;\">\n",
       "        \n",
       "  <svg xmlns=\"http://www.w3.org/2000/svg\" height=\"24px\"viewBox=\"0 0 24 24\"\n",
       "       width=\"24px\">\n",
       "    <path d=\"M0 0h24v24H0V0z\" fill=\"none\"/>\n",
       "    <path d=\"M18.56 5.44l.94 2.06.94-2.06 2.06-.94-2.06-.94-.94-2.06-.94 2.06-2.06.94zm-11 1L8.5 8.5l.94-2.06 2.06-.94-2.06-.94L8.5 2.5l-.94 2.06-2.06.94zm10 10l.94 2.06.94-2.06 2.06-.94-2.06-.94-.94-2.06-.94 2.06-2.06.94z\"/><path d=\"M17.41 7.96l-1.37-1.37c-.4-.4-.92-.59-1.43-.59-.52 0-1.04.2-1.43.59L10.3 9.45l-7.72 7.72c-.78.78-.78 2.05 0 2.83L4 21.41c.39.39.9.59 1.41.59.51 0 1.02-.2 1.41-.59l7.78-7.78 2.81-2.81c.8-.78.8-2.07 0-2.86zM5.41 20L4 18.59l7.72-7.72 1.47 1.35L5.41 20z\"/>\n",
       "  </svg>\n",
       "      </button>\n",
       "      \n",
       "  <style>\n",
       "    .colab-df-container {\n",
       "      display:flex;\n",
       "      flex-wrap:wrap;\n",
       "      gap: 12px;\n",
       "    }\n",
       "\n",
       "    .colab-df-convert {\n",
       "      background-color: #E8F0FE;\n",
       "      border: none;\n",
       "      border-radius: 50%;\n",
       "      cursor: pointer;\n",
       "      display: none;\n",
       "      fill: #1967D2;\n",
       "      height: 32px;\n",
       "      padding: 0 0 0 0;\n",
       "      width: 32px;\n",
       "    }\n",
       "\n",
       "    .colab-df-convert:hover {\n",
       "      background-color: #E2EBFA;\n",
       "      box-shadow: 0px 1px 2px rgba(60, 64, 67, 0.3), 0px 1px 3px 1px rgba(60, 64, 67, 0.15);\n",
       "      fill: #174EA6;\n",
       "    }\n",
       "\n",
       "    [theme=dark] .colab-df-convert {\n",
       "      background-color: #3B4455;\n",
       "      fill: #D2E3FC;\n",
       "    }\n",
       "\n",
       "    [theme=dark] .colab-df-convert:hover {\n",
       "      background-color: #434B5C;\n",
       "      box-shadow: 0px 1px 3px 1px rgba(0, 0, 0, 0.15);\n",
       "      filter: drop-shadow(0px 1px 2px rgba(0, 0, 0, 0.3));\n",
       "      fill: #FFFFFF;\n",
       "    }\n",
       "  </style>\n",
       "\n",
       "      <script>\n",
       "        const buttonEl =\n",
       "          document.querySelector('#df-ac848846-21be-4fb9-9718-ecf5b83600b6 button.colab-df-convert');\n",
       "        buttonEl.style.display =\n",
       "          google.colab.kernel.accessAllowed ? 'block' : 'none';\n",
       "\n",
       "        async function convertToInteractive(key) {\n",
       "          const element = document.querySelector('#df-ac848846-21be-4fb9-9718-ecf5b83600b6');\n",
       "          const dataTable =\n",
       "            await google.colab.kernel.invokeFunction('convertToInteractive',\n",
       "                                                     [key], {});\n",
       "          if (!dataTable) return;\n",
       "\n",
       "          const docLinkHtml = 'Like what you see? Visit the ' +\n",
       "            '<a target=\"_blank\" href=https://colab.research.google.com/notebooks/data_table.ipynb>data table notebook</a>'\n",
       "            + ' to learn more about interactive tables.';\n",
       "          element.innerHTML = '';\n",
       "          dataTable['output_type'] = 'display_data';\n",
       "          await google.colab.output.renderOutput(dataTable, element);\n",
       "          const docLink = document.createElement('div');\n",
       "          docLink.innerHTML = docLinkHtml;\n",
       "          element.appendChild(docLink);\n",
       "        }\n",
       "      </script>\n",
       "    </div>\n",
       "  </div>\n",
       "  "
      ],
      "text/plain": [
       "              Age         Sex  ChestPainType   RestingBP  Cholesterol  \\\n",
       "count  918.000000  918.000000     918.000000  918.000000   918.000000   \n",
       "mean    53.510893    0.789760       0.781046  131.942266   235.059913   \n",
       "std      9.432617    0.407701       0.956519   12.997942    39.699247   \n",
       "min     28.000000    0.000000       0.000000  105.000000    85.000000   \n",
       "25%     47.000000    1.000000       0.000000  120.000000   216.000000   \n",
       "50%     54.000000    1.000000       0.000000  130.000000   223.000000   \n",
       "75%     60.000000    1.000000       2.000000  140.000000   260.000000   \n",
       "max     77.000000    1.000000       3.000000  170.000000   365.000000   \n",
       "\n",
       "        FastingBS  RestingECG       MaxHR  ExerciseAngina     Oldpeak  \\\n",
       "count  918.000000  918.000000  918.000000      918.000000  918.000000   \n",
       "mean     0.233115    0.989107  137.152505        0.404139    1.036492   \n",
       "std      0.423046    0.631671   21.213683        0.490992    0.676065   \n",
       "min      0.000000    0.000000   87.000000        0.000000    0.100000   \n",
       "25%      0.000000    1.000000  121.000000        0.000000    0.600000   \n",
       "50%      0.000000    1.000000  138.000000        0.000000    0.600000   \n",
       "75%      0.000000    1.000000  152.000000        1.000000    1.500000   \n",
       "max      1.000000    2.000000  180.000000        1.000000    3.000000   \n",
       "\n",
       "         ST_Slope  HeartDisease  \n",
       "count  918.000000    918.000000  \n",
       "mean     1.361656      0.553377  \n",
       "std      0.607056      0.497414  \n",
       "min      0.000000      0.000000  \n",
       "25%      1.000000      0.000000  \n",
       "50%      1.000000      1.000000  \n",
       "75%      2.000000      1.000000  \n",
       "max      2.000000      1.000000  "
      ]
     },
     "execution_count": 23,
     "metadata": {},
     "output_type": "execute_result"
    }
   ],
   "source": [
    "df.describe()"
   ]
  },
  {
   "cell_type": "code",
   "execution_count": null,
   "metadata": {
    "id": "BRuKK-najkHu"
   },
   "outputs": [],
   "source": [
    "columns_to_scale = ['Oldpeak', 'MaxHR', 'Cholesterol', 'RestingBP', 'Age'] # slacing the columns with min max scaler except the labelled class\n",
    "scaler=MinMaxScaler((-1,1)) #normalizes the data which makes the model less bais\n",
    "#transform only the awaiting time and age.\n",
    "df[columns_to_scale] = scaler.fit_transform(df[columns_to_scale])"
   ]
  },
  {
   "cell_type": "code",
   "execution_count": null,
   "metadata": {
    "colab": {
     "base_uri": "https://localhost:8080/"
    },
    "id": "6ZxW_qb1ySYg",
    "outputId": "6583a157-35db-4527-acb4-dac7a15657ee"
   },
   "outputs": [
    {
     "data": {
      "text/plain": [
       "Index(['Age', 'Sex', 'ChestPainType', 'RestingBP', 'Cholesterol', 'FastingBS',\n",
       "       'RestingECG', 'MaxHR', 'ExerciseAngina', 'Oldpeak', 'ST_Slope',\n",
       "       'HeartDisease'],\n",
       "      dtype='object')"
      ]
     },
     "execution_count": 25,
     "metadata": {},
     "output_type": "execute_result"
    }
   ],
   "source": [
    "df.columns"
   ]
  },
  {
   "cell_type": "code",
   "execution_count": null,
   "metadata": {
    "id": "NFQxs3QfxUR9"
   },
   "outputs": [],
   "source": [
    "features=df[['Age', 'Sex', 'ChestPainType','ST_Slope', 'Oldpeak', 'ExerciseAngina', 'MaxHR', 'FastingBS', 'Cholesterol', 'RestingBP']]\n",
    "target=df.loc[:,'HeartDisease'].values"
   ]
  },
  {
   "cell_type": "code",
   "execution_count": null,
   "metadata": {
    "id": "90cpkZrTyofT"
   },
   "outputs": [],
   "source": [
    "X_train, X_test, y_train, y_test= train_test_split(features, target, test_size=0.3,random_state=0)#splitting data in 70% train, 30%test"
   ]
  },
  {
   "cell_type": "code",
   "execution_count": null,
   "metadata": {
    "colab": {
     "base_uri": "https://localhost:8080/"
    },
    "id": "eRIBZivvw1D4",
    "outputId": "216f9015-610e-4900-8ee3-9220d70479a8"
   },
   "outputs": [
    {
     "data": {
      "text/plain": [
       "KNeighborsClassifier()"
      ]
     },
     "execution_count": 28,
     "metadata": {},
     "output_type": "execute_result"
    }
   ],
   "source": [
    "from sklearn.neighbors import KNeighborsClassifier # training the model using KNN classifier\n",
    "neigh = KNeighborsClassifier(n_neighbors=5)\n",
    "neigh.fit(X_train, y_train)"
   ]
  },
  {
   "cell_type": "code",
   "execution_count": null,
   "metadata": {
    "id": "kw8WuzYdyxu-"
   },
   "outputs": [],
   "source": [
    "knn_pred=neigh.predict(X_test)"
   ]
  },
  {
   "cell_type": "code",
   "execution_count": null,
   "metadata": {
    "colab": {
     "base_uri": "https://localhost:8080/",
     "height": 664
    },
    "id": "nvXCx-tEzB1X",
    "outputId": "2ddd562b-88c4-4106-8e54-40eeeef9057f"
   },
   "outputs": [
    {
     "name": "stdout",
     "output_type": "stream",
     "text": [
      "Classification Report is:\n",
      "               precision    recall  f1-score   support\n",
      "\n",
      "           0       0.81      0.76      0.79       113\n",
      "           1       0.84      0.88      0.86       163\n",
      "\n",
      "    accuracy                           0.83       276\n",
      "   macro avg       0.83      0.82      0.82       276\n",
      "weighted avg       0.83      0.83      0.83       276\n",
      "\n",
      "\n",
      " F1:\n",
      " 0.858858858858859\n",
      "\n",
      " Precision score is:\n",
      " 0.8411764705882353\n",
      "\n",
      " Recall score is:\n",
      " 0.8773006134969326\n",
      "\n",
      " Confusion Matrix:\n",
      "\n"
     ]
    },
    {
     "data": {
      "text/plain": [
       "<matplotlib.axes._subplots.AxesSubplot at 0x7fc7f8f7a450>"
      ]
     },
     "execution_count": 30,
     "metadata": {},
     "output_type": "execute_result"
    },
    {
     "data": {
      "image/png": "[encoded data removed]",
      "text/plain": [
       "<Figure size 432x288 with 2 Axes>"
      ]
     },
     "metadata": {
      "needs_background": "light"
     },
     "output_type": "display_data"
    }
   ],
   "source": [
    "print(\"Classification Report is:\\n\",classification_report(y_test,knn_pred))\n",
    "print(\"\\n F1:\\n\",f1_score(y_test,knn_pred))\n",
    "print(\"\\n Precision score is:\\n\",precision_score(y_test,knn_pred))\n",
    "print(\"\\n Recall score is:\\n\",recall_score(y_test,knn_pred))\n",
    "print(\"\\n Confusion Matrix:\\n\")\n",
    "sns.heatmap(confusion_matrix(y_test,knn_pred))"
   ]
  },
  {
   "cell_type": "code",
   "execution_count": null,
   "metadata": {
    "colab": {
     "base_uri": "https://localhost:8080/"
    },
    "id": "YuSlgsRQ0RgF",
    "outputId": "fd6c933d-b628-47b5-b2ba-55e9a5953914"
   },
   "outputs": [
    {
     "data": {
      "text/plain": [
       "SVC()"
      ]
     },
     "execution_count": 31,
     "metadata": {},
     "output_type": "execute_result"
    }
   ],
   "source": [
    "from sklearn.svm import SVC # training with the SVC classifier which already has the RBF kernel as default\n",
    "clf = SVC()\n",
    "clf.fit(X_train, y_train) "
   ]
  },
  {
   "cell_type": "code",
   "execution_count": null,
   "metadata": {
    "id": "uSahSI-q2CqD"
   },
   "outputs": [],
   "source": [
    "clf_predict=clf.predict(X_test)"
   ]
  },
  {
   "cell_type": "code",
   "execution_count": null,
   "metadata": {
    "colab": {
     "base_uri": "https://localhost:8080/",
     "height": 664
    },
    "id": "nh-AvV332Iur",
    "outputId": "1f9f3167-9927-4d8f-91c5-8f5655935621"
   },
   "outputs": [
    {
     "name": "stdout",
     "output_type": "stream",
     "text": [
      "Classification Report is:\n",
      "               precision    recall  f1-score   support\n",
      "\n",
      "           0       0.78      0.77      0.78       113\n",
      "           1       0.84      0.85      0.85       163\n",
      "\n",
      "    accuracy                           0.82       276\n",
      "   macro avg       0.81      0.81      0.81       276\n",
      "weighted avg       0.82      0.82      0.82       276\n",
      "\n",
      "\n",
      " F1:\n",
      " 0.8475609756097561\n",
      "\n",
      " Precision score is:\n",
      " 0.8424242424242424\n",
      "\n",
      " Recall score is:\n",
      " 0.852760736196319\n",
      "\n",
      " Confusion Matrix:\n",
      "\n"
     ]
    },
    {
     "data": {
      "text/plain": [
       "<matplotlib.axes._subplots.AxesSubplot at 0x7fc7f8ebe350>"
      ]
     },
     "execution_count": 33,
     "metadata": {},
     "output_type": "execute_result"
    },
    {
     "data": {
      "image/png": "[encoded data removed]",
      "text/plain": [
       "<Figure size 432x288 with 2 Axes>"
      ]
     },
     "metadata": {
      "needs_background": "light"
     },
     "output_type": "display_data"
    }
   ],
   "source": [
    "print(\"Classification Report is:\\n\",classification_report(y_test,clf_predict))\n",
    "print(\"\\n F1:\\n\",f1_score(y_test,clf_predict))\n",
    "print(\"\\n Precision score is:\\n\",precision_score(y_test,clf_predict))\n",
    "print(\"\\n Recall score is:\\n\",recall_score(y_test,clf_predict))\n",
    "print(\"\\n Confusion Matrix:\\n\")\n",
    "sns.heatmap(confusion_matrix(y_test,clf_predict))"
   ]
  },
  {
   "cell_type": "code",
   "execution_count": null,
   "metadata": {
    "id": "zQrYgFA2uSBA"
   },
   "outputs": [],
   "source": [
    "from sklearn.tree import DecisionTreeClassifier\n",
    "from sklearn.metrics import classification_report,confusion_matrix\n",
    "from sklearn.metrics import classification_report,confusion_matrix\n",
    "from sklearn.metrics import f1_score, precision_score, recall_score\n",
    "from sklearn.model_selection import GridSearchCV\n",
    "dt = DecisionTreeClassifier(random_state=42)"
   ]
  },
  {
   "cell_type": "code",
   "execution_count": null,
   "metadata": {
    "id": "nNyXZI2BwObX"
   },
   "outputs": [],
   "source": [
    "# Create the parameter grid based on the results of random search \n",
    "params = {\n",
    "    'max_depth': [5, 10, 20,25],\n",
    "    'min_samples_leaf': [10, 20, 50, 100, 120],\n",
    "    'min_samples_split': [2, 3, 4],\n",
    "    'criterion': [\"gini\", \"entropy\"]\n",
    "}"
   ]
  },
  {
   "cell_type": "code",
   "execution_count": null,
   "metadata": {
    "id": "gZk7YACxwP2x"
   },
   "outputs": [],
   "source": [
    "grid_search = GridSearchCV(estimator=dt, \n",
    "                           param_grid=params, \n",
    "                           cv=5, n_jobs=-1, verbose=1, scoring = \"f1\")"
   ]
  },
  {
   "cell_type": "code",
   "execution_count": null,
   "metadata": {
    "colab": {
     "base_uri": "https://localhost:8080/"
    },
    "id": "wzkgBHNDwRbd",
    "outputId": "2c8a4c36-fcd3-4cba-81e4-34ab682db5df"
   },
   "outputs": [
    {
     "name": "stdout",
     "output_type": "stream",
     "text": [
      "Fitting 5 folds for each of 120 candidates, totalling 600 fits\n"
     ]
    }
   ],
   "source": [
    "best_model=grid_search.fit(X_train, y_train)"
   ]
  },
  {
   "cell_type": "code",
   "execution_count": null,
   "metadata": {
    "id": "m8ZucFufwTQ9"
   },
   "outputs": [],
   "source": [
    "dt_pred=best_model.predict(X_test)"
   ]
  },
  {
   "cell_type": "code",
   "execution_count": null,
   "metadata": {
    "colab": {
     "base_uri": "https://localhost:8080/",
     "height": 664
    },
    "id": "4LrDkEcawUzE",
    "outputId": "2f5f8384-09fb-4576-bb41-d81438910f10"
   },
   "outputs": [
    {
     "name": "stdout",
     "output_type": "stream",
     "text": [
      "Classification Report is:\n",
      "               precision    recall  f1-score   support\n",
      "\n",
      "           0       0.76      0.81      0.78       113\n",
      "           1       0.86      0.82      0.84       163\n",
      "\n",
      "    accuracy                           0.82       276\n",
      "   macro avg       0.81      0.81      0.81       276\n",
      "weighted avg       0.82      0.82      0.82       276\n",
      "\n",
      "\n",
      " F1:\n",
      " 0.8401253918495297\n",
      "\n",
      " Precision score is:\n",
      " 0.8589743589743589\n",
      "\n",
      " Recall score is:\n",
      " 0.8220858895705522\n",
      "\n",
      " Confusion Matrix:\n",
      "\n"
     ]
    },
    {
     "data": {
      "text/plain": [
       "<matplotlib.axes._subplots.AxesSubplot at 0x7fc7f71d8190>"
      ]
     },
     "execution_count": 55,
     "metadata": {},
     "output_type": "execute_result"
    },
    {
     "data": {
      "image/png": "[encoded data removed]",
      "text/plain": [
       "<Figure size 432x288 with 2 Axes>"
      ]
     },
     "metadata": {
      "needs_background": "light"
     },
     "output_type": "display_data"
    }
   ],
   "source": [
    "print(\"Classification Report is:\\n\",classification_report(y_test,dt_pred))\n",
    "print(\"\\n F1:\\n\",f1_score(y_test,dt_pred))\n",
    "print(\"\\n Precision score is:\\n\",precision_score(y_test,dt_pred))\n",
    "print(\"\\n Recall score is:\\n\",recall_score(y_test,dt_pred))\n",
    "print(\"\\n Confusion Matrix:\\n\")\n",
    "sns.heatmap(confusion_matrix(y_test,dt_pred))"
   ]
  },
  {
   "cell_type": "code",
   "execution_count": null,
   "metadata": {
    "colab": {
     "base_uri": "https://localhost:8080/"
    },
    "id": "JUqolQPzydGq",
    "outputId": "a37fad62-08b7-48e3-aad1-128d068a8272"
   },
   "outputs": [
    {
     "name": "stdout",
     "output_type": "stream",
     "text": [
      "Best Criterion: DecisionTreeClassifier(criterion='entropy', max_depth=5, min_samples_leaf=20,\n",
      "                       random_state=42)\n"
     ]
    }
   ],
   "source": [
    "print('Best Criterion:',  best_model.best_estimator_)"
   ]
  },
  {
   "cell_type": "markdown",
   "metadata": {
    "id": "II1H4qyrHEhS"
   },
   "source": [
    "Finding the best parameters for the decision tree using grid search cv"
   ]
  },
  {
   "cell_type": "code",
   "execution_count": null,
   "metadata": {
    "id": "oLuvT8DQ0w5N"
   },
   "outputs": [],
   "source": [
    "SVM = SVC(random_state=0, probability=True)\n",
    "KNC = KNeighborsClassifier(n_neighbors=5)\n",
    "DTC = DecisionTreeClassifier(criterion='entropy', max_depth=5, min_samples_leaf=20, random_state=42)\n",
    "XGB = XGBClassifier()\n"
   ]
  },
  {
   "cell_type": "code",
   "execution_count": null,
   "metadata": {
    "id": "X4efAdZG_zdC"
   },
   "outputs": [],
   "source": [
    "models = list()\n",
    "models.append(('SVM', SVM))\n",
    "models.append(('KNC', KNC))\n",
    "models.append(('DTC', DTC))\n",
    "models.append(('XGB', XGB))\n",
    "# define the hard voting ensemble\n",
    "ensemble = VotingClassifier(estimators=models, voting='hard')\n",
    "# fit the model on all available data\n",
    "ensemble.fit(X_train, y_train)\n",
    "\n",
    "predicted_result = ensemble.predict(X_test)"
   ]
  },
  {
   "cell_type": "markdown",
   "metadata": {
    "id": "8YoKWO47HKoW"
   },
   "source": [
    "using hard voting approach for the ensemble method, which ensures majority voting component"
   ]
  },
  {
   "cell_type": "code",
   "execution_count": null,
   "metadata": {
    "colab": {
     "base_uri": "https://localhost:8080/",
     "height": 664
    },
    "id": "vYTEUDtF474I",
    "outputId": "7b4e21ba-2c78-4d25-a896-457227bb0135"
   },
   "outputs": [
    {
     "name": "stdout",
     "output_type": "stream",
     "text": [
      "Classification Report is:\n",
      "               precision    recall  f1-score   support\n",
      "\n",
      "           0       0.77      0.79      0.78       113\n",
      "           1       0.85      0.84      0.85       163\n",
      "\n",
      "    accuracy                           0.82       276\n",
      "   macro avg       0.81      0.81      0.81       276\n",
      "weighted avg       0.82      0.82      0.82       276\n",
      "\n",
      "\n",
      " F1:\n",
      " 0.845679012345679\n",
      "\n",
      " Precision score is:\n",
      " 0.8509316770186336\n",
      "\n",
      " Recall score is:\n",
      " 0.8404907975460123\n",
      "\n",
      " Confusion Matrix:\n",
      "\n"
     ]
    },
    {
     "data": {
      "text/plain": [
       "<matplotlib.axes._subplots.AxesSubplot at 0x7fc7fe06dc10>"
      ]
     },
     "execution_count": 83,
     "metadata": {},
     "output_type": "execute_result"
    },
    {
     "data": {
      "image/png": "[encoded data removed]",
      "text/plain": [
       "<Figure size 432x288 with 2 Axes>"
      ]
     },
     "metadata": {
      "needs_background": "light"
     },
     "output_type": "display_data"
    }
   ],
   "source": [
    "print(\"Classification Report is:\\n\",classification_report(y_test, predicted_result))\n",
    "print(\"\\n F1:\\n\",f1_score(y_test, predicted_result))\n",
    "print(\"\\n Precision score is:\\n\", precision_score(y_test, predicted_result))\n",
    "print(\"\\n Recall score is:\\n\", recall_score(y_test, predicted_result))\n",
    "print(\"\\n Confusion Matrix:\\n\")\n",
    "sns.heatmap(confusion_matrix(y_test, predicted_result))"
   ]
  },
  {
   "cell_type": "markdown",
   "metadata": {
    "id": "306tZRPAHWCy"
   },
   "source": [
    "Now will be training a neural network with 3 dense layers, with 2 relu activation layer and the last layer is sigmoid for classification. For the first layer use 32 neurons, for the next layer use 16 and for the output use 1"
   ]
  },
  {
   "cell_type": "code",
   "execution_count": null,
   "metadata": {
    "colab": {
     "base_uri": "https://localhost:8080/"
    },
    "id": "1kFpIv682ZWX",
    "outputId": "915cc1f3-58d7-4d56-d849-60ba256a952d"
   },
   "outputs": [
    {
     "name": "stdout",
     "output_type": "stream",
     "text": [
      "Epoch 1/25\n",
      "41/41 [==============================] - 3s 29ms/step - loss: 0.5833 - accuracy: 0.7960 - val_loss: 0.5198 - val_accuracy: 0.8193\n",
      "Epoch 2/25\n",
      "41/41 [==============================] - 0s 8ms/step - loss: 0.4814 - accuracy: 0.8240 - val_loss: 0.4426 - val_accuracy: 0.8224\n",
      "Epoch 3/25\n",
      "41/41 [==============================] - 0s 9ms/step - loss: 0.4264 - accuracy: 0.8162 - val_loss: 0.4046 - val_accuracy: 0.8302\n",
      "Epoch 4/25\n",
      "41/41 [==============================] - 0s 8ms/step - loss: 0.3976 - accuracy: 0.8333 - val_loss: 0.3857 - val_accuracy: 0.8333\n",
      "Epoch 5/25\n",
      "41/41 [==============================] - 0s 9ms/step - loss: 0.3814 - accuracy: 0.8349 - val_loss: 0.3700 - val_accuracy: 0.8349\n",
      "Epoch 6/25\n",
      "41/41 [==============================] - 0s 11ms/step - loss: 0.3676 - accuracy: 0.8380 - val_loss: 0.3576 - val_accuracy: 0.8505\n",
      "Epoch 7/25\n",
      "41/41 [==============================] - 0s 9ms/step - loss: 0.3557 - accuracy: 0.8474 - val_loss: 0.3487 - val_accuracy: 0.8660\n",
      "Epoch 8/25\n",
      "41/41 [==============================] - 0s 11ms/step - loss: 0.3523 - accuracy: 0.8645 - val_loss: 0.3426 - val_accuracy: 0.8676\n",
      "Epoch 9/25\n",
      "41/41 [==============================] - 0s 10ms/step - loss: 0.3420 - accuracy: 0.8676 - val_loss: 0.3365 - val_accuracy: 0.8676\n",
      "Epoch 10/25\n",
      "41/41 [==============================] - 0s 8ms/step - loss: 0.3410 - accuracy: 0.8629 - val_loss: 0.3328 - val_accuracy: 0.8723\n",
      "Epoch 11/25\n",
      "41/41 [==============================] - 0s 9ms/step - loss: 0.3337 - accuracy: 0.8692 - val_loss: 0.3283 - val_accuracy: 0.8707\n",
      "Epoch 12/25\n",
      "41/41 [==============================] - 0s 8ms/step - loss: 0.3288 - accuracy: 0.8676 - val_loss: 0.3236 - val_accuracy: 0.8738\n",
      "Epoch 13/25\n",
      "41/41 [==============================] - 0s 8ms/step - loss: 0.3248 - accuracy: 0.8723 - val_loss: 0.3227 - val_accuracy: 0.8785\n",
      "Epoch 14/25\n",
      "41/41 [==============================] - 0s 11ms/step - loss: 0.3249 - accuracy: 0.8769 - val_loss: 0.3174 - val_accuracy: 0.8738\n",
      "Epoch 15/25\n",
      "41/41 [==============================] - 0s 9ms/step - loss: 0.3203 - accuracy: 0.8785 - val_loss: 0.3154 - val_accuracy: 0.8738\n",
      "Epoch 16/25\n",
      "41/41 [==============================] - 0s 9ms/step - loss: 0.3162 - accuracy: 0.8723 - val_loss: 0.3137 - val_accuracy: 0.8863\n",
      "Epoch 17/25\n",
      "41/41 [==============================] - 0s 9ms/step - loss: 0.3156 - accuracy: 0.8832 - val_loss: 0.3151 - val_accuracy: 0.8738\n",
      "Epoch 18/25\n",
      "41/41 [==============================] - 0s 10ms/step - loss: 0.3133 - accuracy: 0.8754 - val_loss: 0.3067 - val_accuracy: 0.8785\n",
      "Epoch 19/25\n",
      "41/41 [==============================] - 0s 7ms/step - loss: 0.3088 - accuracy: 0.8754 - val_loss: 0.3047 - val_accuracy: 0.8832\n",
      "Epoch 20/25\n",
      "41/41 [==============================] - 0s 4ms/step - loss: 0.3138 - accuracy: 0.8785 - val_loss: 0.3047 - val_accuracy: 0.8754\n",
      "Epoch 21/25\n",
      "41/41 [==============================] - 0s 4ms/step - loss: 0.3085 - accuracy: 0.8785 - val_loss: 0.3014 - val_accuracy: 0.8738\n",
      "Epoch 22/25\n",
      "41/41 [==============================] - 0s 4ms/step - loss: 0.3036 - accuracy: 0.8816 - val_loss: 0.2987 - val_accuracy: 0.8847\n",
      "Epoch 23/25\n",
      "41/41 [==============================] - 0s 4ms/step - loss: 0.3038 - accuracy: 0.8863 - val_loss: 0.2969 - val_accuracy: 0.8925\n",
      "Epoch 24/25\n",
      "41/41 [==============================] - 0s 4ms/step - loss: 0.3011 - accuracy: 0.8894 - val_loss: 0.2952 - val_accuracy: 0.8910\n",
      "Epoch 25/25\n",
      "41/41 [==============================] - 0s 3ms/step - loss: 0.2988 - accuracy: 0.8863 - val_loss: 0.2928 - val_accuracy: 0.8910\n"
     ]
    },
    {
     "data": {
      "text/plain": [
       "<keras.callbacks.History at 0x7fc780f4c450>"
      ]
     },
     "execution_count": 84,
     "metadata": {},
     "output_type": "execute_result"
    }
   ],
   "source": [
    "from keras.models import Sequential\n",
    "from keras.layers import Dense\n",
    "\n",
    "n_cols = X_train.shape[1]\n",
    "\n",
    "model = Sequential()\n",
    "model.add(Dense(32, activation='relu', input_shape=(n_cols, )))\n",
    "model.add(Dense(16, activation='relu'))\n",
    "model.add(Dense(1,activation='sigmoid'))\n",
    "model.compile(optimizer='adam',loss='binary_crossentropy',metrics=['accuracy'])\n",
    "\n",
    "\n",
    "\n",
    "model.fit(X_train, y_train, batch_size=16, epochs=25, verbose=1, validation_data=(X_train, y_train))"
   ]
  },
  {
   "cell_type": "code",
   "execution_count": null,
   "metadata": {
    "colab": {
     "base_uri": "https://localhost:8080/"
    },
    "id": "LS0xb4Jh38eK",
    "outputId": "078979e9-9bcf-4028-cf40-1e04c3ad5e1d"
   },
   "outputs": [
    {
     "name": "stdout",
     "output_type": "stream",
     "text": [
      "9/9 [==============================] - 0s 3ms/step - loss: 0.3559 - accuracy: 0.8478\n",
      "Accuracy: 0.8478260636329651\n"
     ]
    }
   ],
   "source": [
    "# Evaluate your model accuracy on the test set\n",
    "accuracy = model.evaluate(X_test, y_test)[1]\n",
    "\n",
    "# Print accuracy\n",
    "print('Accuracy:', accuracy)"
   ]
  },
  {
   "cell_type": "code",
   "execution_count": null,
   "metadata": {
    "id": "Mx4UwLmK3_A8"
   },
   "outputs": [],
   "source": [
    "# predict probabilities for test set\n",
    "yhat_probs = model.predict(X_test, verbose=0)\n",
    "# predict crisp classes for test set\n",
    "yhat_classes = np.round(yhat_probs).astype(int)"
   ]
  },
  {
   "cell_type": "code",
   "execution_count": null,
   "metadata": {
    "colab": {
     "base_uri": "https://localhost:8080/"
    },
    "id": "fxWc0pzs4AVt",
    "outputId": "9a21aea8-bca5-421e-d0c2-dbaa8a6123b9"
   },
   "outputs": [
    {
     "name": "stdout",
     "output_type": "stream",
     "text": [
      "Classification Report is:\n",
      "               precision    recall  f1-score   support\n",
      "\n",
      "           0       0.82      0.81      0.81       113\n",
      "           1       0.87      0.88      0.87       163\n",
      "\n",
      "    accuracy                           0.85       276\n",
      "   macro avg       0.84      0.84      0.84       276\n",
      "weighted avg       0.85      0.85      0.85       276\n",
      "\n",
      "\n",
      " F1:\n",
      " 0.8719512195121951\n",
      "\n",
      " Precision score is:\n",
      " 0.8666666666666667\n",
      "\n",
      " Recall score is:\n",
      " 0.8773006134969326\n",
      "\n",
      " Accuracy score is:\n",
      " 0.8478260869565217\n",
      "\n",
      " Confusion Matrix:\n",
      " [[ 91  22]\n",
      " [ 20 143]]\n"
     ]
    }
   ],
   "source": [
    "from sklearn.metrics import classification_report,confusion_matrix\n",
    "from sklearn.metrics import f1_score, precision_score, recall_score\n",
    "from sklearn.metrics import accuracy_score\n",
    "\n",
    "print(\"Classification Report is:\\n\",classification_report(y_test,yhat_classes))\n",
    "print(\"\\n F1:\\n\",f1_score(y_test,yhat_classes))\n",
    "print(\"\\n Precision score is:\\n\",precision_score(y_test,yhat_classes))\n",
    "print(\"\\n Recall score is:\\n\",recall_score(y_test,yhat_classes))\n",
    "print(\"\\n Accuracy score is:\\n\", accuracy_score(y_test,yhat_classes))\n",
    "print(\"\\n Confusion Matrix:\\n\", confusion_matrix(y_test, yhat_classes))"
   ]
  },
  {
   "cell_type": "markdown",
   "metadata": {
    "id": "O6QJo27IIAnL"
   },
   "source": [
    "Instead of the Relu activation here we are using tanh as the activation for the same model"
   ]
  },
  {
   "cell_type": "code",
   "execution_count": null,
   "metadata": {
    "colab": {
     "base_uri": "https://localhost:8080/"
    },
    "id": "PCNgweppEm4K",
    "outputId": "e832b5a9-c91b-4f88-819b-76c9afd37573"
   },
   "outputs": [
    {
     "name": "stdout",
     "output_type": "stream",
     "text": [
      "Epoch 1/25\n",
      "41/41 [==============================] - 2s 20ms/step - loss: 0.6263 - accuracy: 0.6745 - val_loss: 0.5128 - val_accuracy: 0.8037\n",
      "Epoch 2/25\n",
      "41/41 [==============================] - 0s 11ms/step - loss: 0.4717 - accuracy: 0.8069 - val_loss: 0.4304 - val_accuracy: 0.8224\n",
      "Epoch 3/25\n",
      "41/41 [==============================] - 0s 7ms/step - loss: 0.4172 - accuracy: 0.8178 - val_loss: 0.3999 - val_accuracy: 0.8240\n",
      "Epoch 4/25\n",
      "41/41 [==============================] - 0s 7ms/step - loss: 0.3937 - accuracy: 0.8271 - val_loss: 0.3884 - val_accuracy: 0.8349\n",
      "Epoch 5/25\n",
      "41/41 [==============================] - 0s 5ms/step - loss: 0.3845 - accuracy: 0.8318 - val_loss: 0.3781 - val_accuracy: 0.8333\n",
      "Epoch 6/25\n",
      "41/41 [==============================] - 0s 8ms/step - loss: 0.3762 - accuracy: 0.8349 - val_loss: 0.3764 - val_accuracy: 0.8411\n",
      "Epoch 7/25\n",
      "41/41 [==============================] - 0s 8ms/step - loss: 0.3744 - accuracy: 0.8427 - val_loss: 0.3657 - val_accuracy: 0.8536\n",
      "Epoch 8/25\n",
      "41/41 [==============================] - 0s 7ms/step - loss: 0.3708 - accuracy: 0.8380 - val_loss: 0.3662 - val_accuracy: 0.8489\n",
      "Epoch 9/25\n",
      "41/41 [==============================] - 0s 6ms/step - loss: 0.3639 - accuracy: 0.8442 - val_loss: 0.3591 - val_accuracy: 0.8489\n",
      "Epoch 10/25\n",
      "41/41 [==============================] - 0s 7ms/step - loss: 0.3619 - accuracy: 0.8489 - val_loss: 0.3568 - val_accuracy: 0.8520\n",
      "Epoch 11/25\n",
      "41/41 [==============================] - 0s 6ms/step - loss: 0.3581 - accuracy: 0.8489 - val_loss: 0.3552 - val_accuracy: 0.8536\n",
      "Epoch 12/25\n",
      "41/41 [==============================] - 0s 7ms/step - loss: 0.3599 - accuracy: 0.8583 - val_loss: 0.3543 - val_accuracy: 0.8505\n",
      "Epoch 13/25\n",
      "41/41 [==============================] - 0s 4ms/step - loss: 0.3542 - accuracy: 0.8505 - val_loss: 0.3504 - val_accuracy: 0.8536\n",
      "Epoch 14/25\n",
      "41/41 [==============================] - 0s 4ms/step - loss: 0.3534 - accuracy: 0.8505 - val_loss: 0.3492 - val_accuracy: 0.8536\n",
      "Epoch 15/25\n",
      "41/41 [==============================] - 0s 4ms/step - loss: 0.3507 - accuracy: 0.8520 - val_loss: 0.3479 - val_accuracy: 0.8505\n",
      "Epoch 16/25\n",
      "41/41 [==============================] - 0s 4ms/step - loss: 0.3489 - accuracy: 0.8551 - val_loss: 0.3450 - val_accuracy: 0.8598\n",
      "Epoch 17/25\n",
      "41/41 [==============================] - 0s 4ms/step - loss: 0.3464 - accuracy: 0.8598 - val_loss: 0.3434 - val_accuracy: 0.8520\n",
      "Epoch 18/25\n",
      "41/41 [==============================] - 0s 4ms/step - loss: 0.3470 - accuracy: 0.8536 - val_loss: 0.3416 - val_accuracy: 0.8614\n",
      "Epoch 19/25\n",
      "41/41 [==============================] - 0s 4ms/step - loss: 0.3456 - accuracy: 0.8520 - val_loss: 0.3402 - val_accuracy: 0.8614\n",
      "Epoch 20/25\n",
      "41/41 [==============================] - 0s 4ms/step - loss: 0.3411 - accuracy: 0.8583 - val_loss: 0.3377 - val_accuracy: 0.8614\n",
      "Epoch 21/25\n",
      "41/41 [==============================] - 0s 4ms/step - loss: 0.3401 - accuracy: 0.8567 - val_loss: 0.3361 - val_accuracy: 0.8645\n",
      "Epoch 22/25\n",
      "41/41 [==============================] - 0s 4ms/step - loss: 0.3401 - accuracy: 0.8660 - val_loss: 0.3356 - val_accuracy: 0.8583\n",
      "Epoch 23/25\n",
      "41/41 [==============================] - 0s 4ms/step - loss: 0.3367 - accuracy: 0.8629 - val_loss: 0.3330 - val_accuracy: 0.8660\n",
      "Epoch 24/25\n",
      "41/41 [==============================] - 0s 4ms/step - loss: 0.3368 - accuracy: 0.8629 - val_loss: 0.3318 - val_accuracy: 0.8692\n",
      "Epoch 25/25\n",
      "41/41 [==============================] - 0s 4ms/step - loss: 0.3356 - accuracy: 0.8692 - val_loss: 0.3304 - val_accuracy: 0.8754\n"
     ]
    },
    {
     "data": {
      "text/plain": [
       "<keras.callbacks.History at 0x7fc780df4650>"
      ]
     },
     "execution_count": 89,
     "metadata": {},
     "output_type": "execute_result"
    }
   ],
   "source": [
    "model = Sequential()\n",
    "model.add(Dense(32, activation='tanh', input_shape=(n_cols, )))\n",
    "model.add(Dense(16, activation='tanh'))\n",
    "model.add(Dense(1,activation='sigmoid'))\n",
    "model.compile(optimizer='adam',loss='binary_crossentropy',metrics=['accuracy'])\n",
    "\n",
    "model.fit(X_train, y_train, batch_size=16, epochs=25, verbose=1, validation_data=(X_train, y_train))"
   ]
  },
  {
   "cell_type": "code",
   "execution_count": null,
   "metadata": {
    "colab": {
     "base_uri": "https://localhost:8080/"
    },
    "id": "1oI-g7DNEueb",
    "outputId": "358469b5-ef6a-4c22-f8fb-65a8238997e0"
   },
   "outputs": [
    {
     "name": "stdout",
     "output_type": "stream",
     "text": [
      "9/9 [==============================] - 0s 2ms/step - loss: 0.3742 - accuracy: 0.8442\n",
      "Accuracy: 0.8442028760910034\n"
     ]
    }
   ],
   "source": [
    "# Evaluate your model accuracy on the test set\n",
    "accuracy = model.evaluate(X_test, y_test)[1]\n",
    "\n",
    "# Print accuracy\n",
    "print('Accuracy:', accuracy)"
   ]
  },
  {
   "cell_type": "code",
   "execution_count": null,
   "metadata": {
    "id": "ooDgoc5TE4Ld"
   },
   "outputs": [],
   "source": [
    "# predict probabilities for test set\n",
    "yhat_probs = model.predict(X_test, verbose=0)\n",
    "# predict crisp classes for test set\n",
    "yhat_classes = np.round(yhat_probs).astype(int)"
   ]
  },
  {
   "cell_type": "code",
   "execution_count": null,
   "metadata": {
    "colab": {
     "base_uri": "https://localhost:8080/"
    },
    "id": "wkmxe7PyE6vi",
    "outputId": "c82b614c-2a34-4562-95cf-49456215dd5a"
   },
   "outputs": [
    {
     "name": "stdout",
     "output_type": "stream",
     "text": [
      "Classification Report is:\n",
      "               precision    recall  f1-score   support\n",
      "\n",
      "           0       0.82      0.79      0.81       113\n",
      "           1       0.86      0.88      0.87       163\n",
      "\n",
      "    accuracy                           0.84       276\n",
      "   macro avg       0.84      0.84      0.84       276\n",
      "weighted avg       0.84      0.84      0.84       276\n",
      "\n",
      "\n",
      " F1:\n",
      " 0.8700906344410877\n",
      "\n",
      " Precision score is:\n",
      " 0.8571428571428571\n",
      "\n",
      " Recall score is:\n",
      " 0.8834355828220859\n",
      "\n",
      " Accuracy score is:\n",
      " 0.8442028985507246\n",
      "\n",
      " Confusion Matrix:\n",
      " [[ 89  24]\n",
      " [ 19 144]]\n"
     ]
    }
   ],
   "source": [
    "from sklearn.metrics import classification_report,confusion_matrix\n",
    "from sklearn.metrics import f1_score, precision_score, recall_score\n",
    "from sklearn.metrics import accuracy_score\n",
    "\n",
    "print(\"Classification Report is:\\n\",classification_report(y_test,yhat_classes))\n",
    "print(\"\\n F1:\\n\",f1_score(y_test,yhat_classes))\n",
    "print(\"\\n Precision score is:\\n\",precision_score(y_test,yhat_classes))\n",
    "print(\"\\n Recall score is:\\n\",recall_score(y_test,yhat_classes))\n",
    "print(\"\\n Accuracy score is:\\n\", accuracy_score(y_test,yhat_classes))\n",
    "print(\"\\n Confusion Matrix:\\n\", confusion_matrix(y_test, yhat_classes))"
   ]
  },
  {
   "cell_type": "markdown",
   "metadata": {
    "id": "lX4qbLFwITo-"
   },
   "source": [
    "For the neural network both models had the same metrics. Therefore, it can be understood that the neural network is fully optimized and cannot be improved more with changing the activation functions."
   ]
  },
  {
   "cell_type": "markdown",
   "metadata": {
    "id": "x1U03v_oJj4_"
   },
   "source": [
    "As for the results, we can see in terms of F1 score, the neural network produced 87 percent, the ensemble method have 84 percent. Therefore, the nueral network is a better model in terms of F1 score. Also, we can see the F1 score of all the models, which are really good, thus none of the models are overfitting. In terms of precision also neural network does better by 86 percent while ensemble produced 85, in terms of Recall, neural network does 87 while ensemble does 84. In terms of accuracy neural network is also ahead as it is 85 and the accuracy of ensemble method is 82. Another special mention will be KNN classifer individually with F1 86 percent, recall 87 percent, precision is 84 percent and accuracy is 83. Therefore, Neural Network is the best model here in terms of all the scores."
   ]
  }
 ],
 "metadata": {
  "colab": {
   "provenance": []
  },
  "kernelspec": {
   "display_name": "Python 3 (ipykernel)",
   "language": "python",
   "name": "python3"
  },
  "language_info": {
   "codemirror_mode": {
    "name": "ipython",
    "version": 3
   },
   "file_extension": ".py",
   "mimetype": "text/x-python",
   "name": "python",
   "nbconvert_exporter": "python",
   "pygments_lexer": "ipython3",
   "version": "3.8.10"
  }
 },
 "nbformat": 4,
 "nbformat_minor": 1
}
